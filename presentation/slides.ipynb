{
  "cells": [
    {
      "cell_type": "raw",
      "metadata": {},
      "source": [
        "---\n",
        "title: \"Machine Learning Approaches for Job Failure Prediction in HTC Systems\"\n",
        "author: \"Alessio Arcara\"\n",
        "format: revealjs\n",
        "---"
      ],
      "id": "4c2bbfb4"
    },
    {
      "cell_type": "markdown",
      "metadata": {},
      "source": [
        "## Panoramica del centro di calcolo CNAF\n",
        "\n",
        "```{css}\n",
        ".title {\n",
        "    font-size: 180px !important;\n",
        "}\n",
        "```\n",
        "\n",
        "\n",
        ":::: {.columns}\n",
        "\n",
        "::: {.column width=\"50%\"}\n",
        "\n",
        "- Circa 59k core distribuiti su O(10^3) host fisici\n",
        "- Jobs provenienti da vari esperimenti scientifici\n",
        "- O(50) gruppi di utenti\n",
        "\n",
        ":::\n",
        "\n",
        "::: {.column width=\"50%\"}\n",
        "![](./image1.jpg){width=\"450\" height=\"300\"}\n",
        ":::\n",
        "\n",
        "::::\n",
        "\n",
        "## Perchè è importante un approccio di machine learning nel contesto del cnaf?\n",
        "\n",
        "## Zombie jobs tasks\n"
      ],
      "id": "53a653cc"
    }
  ],
  "metadata": {
    "kernelspec": {
      "display_name": "Python 3",
      "language": "python",
      "name": "python3"
    }
  },
  "nbformat": 4,
  "nbformat_minor": 5
}