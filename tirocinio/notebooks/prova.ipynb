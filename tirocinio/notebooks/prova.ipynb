{
 "cells": [
  {
   "cell_type": "code",
   "execution_count": 1,
   "id": "b0a3cc94",
   "metadata": {},
   "outputs": [],
   "source": [
    "import numpy as np\n",
    "import pandas as pd\n",
    "\n",
    "#librerie grafiche\n",
    "import seaborn as sns\n",
    "import matplotlib.pyplot as plt\n",
    "%matplotlib inline\n",
    "\n",
    "pd.options.mode.chained_assignment = None  # default='warn'"
   ]
  },
  {
   "cell_type": "code",
   "execution_count": 4,
   "id": "0cdd7cd2",
   "metadata": {},
   "outputs": [],
   "source": [
    "#load dataset\n",
    "column_names = [\n",
    "    \"job\", \"group\", \"job_type\", \"host_name\", \n",
    "    \"just_started\", \"just_finished\", \"job_status\", \n",
    "    \"cores_used\", \"power_HS6_core\", \"power_HS6_machine\", \n",
    "    \"cpu_time\", \"job_time\", \"owner\", \"ram_memory\", \n",
    "    \"total_memory\", \"unix_time\", \"machine\", \"disk\"\n",
    "]\n",
    "\n",
    "categorical_vars = [ \n",
    "    \"job_id\", \"group\", \"job_type\", \"host_name\", \"just_started\", \n",
    "    \"just_finished\", \"job_status\", \"owner\", \"machine\"\n",
    "]\n",
    "\n",
    "data = pd.read_csv(\n",
    "    '../data/jobs_1666874881.bz2', \n",
    "    sep=\" \", \n",
    "    names=column_names,\n",
    "    dtype={c: \"category\" for c in categorical_vars},\n",
    "    compression=\"bz2\")"
   ]
  },
  {
   "cell_type": "code",
   "execution_count": 7,
   "id": "363c3d62",
   "metadata": {},
   "outputs": [
    {
     "data": {
      "text/html": [
       "<div>\n",
       "<style scoped>\n",
       "    .dataframe tbody tr th:only-of-type {\n",
       "        vertical-align: middle;\n",
       "    }\n",
       "\n",
       "    .dataframe tbody tr th {\n",
       "        vertical-align: top;\n",
       "    }\n",
       "\n",
       "    .dataframe thead th {\n",
       "        text-align: right;\n",
       "    }\n",
       "</style>\n",
       "<table border=\"1\" class=\"dataframe\">\n",
       "  <thead>\n",
       "    <tr style=\"text-align: right;\">\n",
       "      <th></th>\n",
       "      <th>job_id</th>\n",
       "      <th>group</th>\n",
       "      <th>job_type</th>\n",
       "      <th>host_name</th>\n",
       "      <th>just_started</th>\n",
       "      <th>just_finished</th>\n",
       "      <th>job_status</th>\n",
       "      <th>cores_used</th>\n",
       "      <th>power_HS6_core</th>\n",
       "      <th>power_HS6_machine</th>\n",
       "      <th>cpu_time</th>\n",
       "      <th>job_time</th>\n",
       "      <th>owner</th>\n",
       "      <th>ram_memory</th>\n",
       "      <th>total_memory</th>\n",
       "      <th>unix_time</th>\n",
       "      <th>machine</th>\n",
       "      <th>disk</th>\n",
       "    </tr>\n",
       "  </thead>\n",
       "  <tbody>\n",
       "    <tr>\n",
       "      <th>0</th>\n",
       "      <td>7652798.0</td>\n",
       "      <td>cms</td>\n",
       "      <td>grid</td>\n",
       "      <td>cn-608-02-07</td>\n",
       "      <td>false</td>\n",
       "      <td>0</td>\n",
       "      <td>2</td>\n",
       "      <td>8</td>\n",
       "      <td>11.555556</td>\n",
       "      <td>832.0</td>\n",
       "      <td>1480299.0</td>\n",
       "      <td>211485</td>\n",
       "      <td>cmsprd004</td>\n",
       "      <td>3.671904</td>\n",
       "      <td>18.118656</td>\n",
       "      <td>1666663396</td>\n",
       "      <td>ce04-htc</td>\n",
       "      <td>0.420770</td>\n",
       "    </tr>\n",
       "    <tr>\n",
       "      <th>1</th>\n",
       "      <td>7652807.0</td>\n",
       "      <td>cms</td>\n",
       "      <td>grid</td>\n",
       "      <td>cn-609-05-03</td>\n",
       "      <td>false</td>\n",
       "      <td>0</td>\n",
       "      <td>2</td>\n",
       "      <td>8</td>\n",
       "      <td>11.555556</td>\n",
       "      <td>832.0</td>\n",
       "      <td>1438626.0</td>\n",
       "      <td>211443</td>\n",
       "      <td>cmsprd004</td>\n",
       "      <td>2.316532</td>\n",
       "      <td>16.779932</td>\n",
       "      <td>1666663438</td>\n",
       "      <td>ce04-htc</td>\n",
       "      <td>0.353494</td>\n",
       "    </tr>\n",
       "    <tr>\n",
       "      <th>2</th>\n",
       "      <td>7652808.0</td>\n",
       "      <td>cms</td>\n",
       "      <td>grid</td>\n",
       "      <td>wn-205-08-05-03-a</td>\n",
       "      <td>false</td>\n",
       "      <td>0</td>\n",
       "      <td>2</td>\n",
       "      <td>8</td>\n",
       "      <td>14.218750</td>\n",
       "      <td>910.0</td>\n",
       "      <td>1219659.0</td>\n",
       "      <td>211318</td>\n",
       "      <td>cmsprd004</td>\n",
       "      <td>2.369088</td>\n",
       "      <td>16.993980</td>\n",
       "      <td>1666663563</td>\n",
       "      <td>ce04-htc</td>\n",
       "      <td>0.357692</td>\n",
       "    </tr>\n",
       "    <tr>\n",
       "      <th>3</th>\n",
       "      <td>7652818.0</td>\n",
       "      <td>cms</td>\n",
       "      <td>grid</td>\n",
       "      <td>cn-608-02-06</td>\n",
       "      <td>false</td>\n",
       "      <td>0</td>\n",
       "      <td>2</td>\n",
       "      <td>8</td>\n",
       "      <td>11.555556</td>\n",
       "      <td>832.0</td>\n",
       "      <td>1416575.0</td>\n",
       "      <td>211234</td>\n",
       "      <td>cmsprd004</td>\n",
       "      <td>2.316400</td>\n",
       "      <td>17.026332</td>\n",
       "      <td>1666663648</td>\n",
       "      <td>ce04-htc</td>\n",
       "      <td>0.356569</td>\n",
       "    </tr>\n",
       "    <tr>\n",
       "      <th>4</th>\n",
       "      <td>7652845.0</td>\n",
       "      <td>cms</td>\n",
       "      <td>grid</td>\n",
       "      <td>cn-610-06-09</td>\n",
       "      <td>false</td>\n",
       "      <td>0</td>\n",
       "      <td>2</td>\n",
       "      <td>8</td>\n",
       "      <td>11.555556</td>\n",
       "      <td>832.0</td>\n",
       "      <td>1417877.0</td>\n",
       "      <td>211108</td>\n",
       "      <td>cmsprd004</td>\n",
       "      <td>2.317612</td>\n",
       "      <td>16.879416</td>\n",
       "      <td>1666663774</td>\n",
       "      <td>ce04-htc</td>\n",
       "      <td>0.359767</td>\n",
       "    </tr>\n",
       "  </tbody>\n",
       "</table>\n",
       "</div>"
      ],
      "text/plain": [
       "      job_id group job_type          host_name just_started just_finished  \\\n",
       "0  7652798.0   cms     grid       cn-608-02-07        false             0   \n",
       "1  7652807.0   cms     grid       cn-609-05-03        false             0   \n",
       "2  7652808.0   cms     grid  wn-205-08-05-03-a        false             0   \n",
       "3  7652818.0   cms     grid       cn-608-02-06        false             0   \n",
       "4  7652845.0   cms     grid       cn-610-06-09        false             0   \n",
       "\n",
       "  job_status  cores_used  power_HS6_core  power_HS6_machine   cpu_time  \\\n",
       "0          2           8       11.555556              832.0  1480299.0   \n",
       "1          2           8       11.555556              832.0  1438626.0   \n",
       "2          2           8       14.218750              910.0  1219659.0   \n",
       "3          2           8       11.555556              832.0  1416575.0   \n",
       "4          2           8       11.555556              832.0  1417877.0   \n",
       "\n",
       "   job_time      owner  ram_memory  total_memory   unix_time   machine  \\\n",
       "0    211485  cmsprd004    3.671904     18.118656  1666663396  ce04-htc   \n",
       "1    211443  cmsprd004    2.316532     16.779932  1666663438  ce04-htc   \n",
       "2    211318  cmsprd004    2.369088     16.993980  1666663563  ce04-htc   \n",
       "3    211234  cmsprd004    2.316400     17.026332  1666663648  ce04-htc   \n",
       "4    211108  cmsprd004    2.317612     16.879416  1666663774  ce04-htc   \n",
       "\n",
       "       disk  \n",
       "0  0.420770  \n",
       "1  0.353494  \n",
       "2  0.357692  \n",
       "3  0.356569  \n",
       "4  0.359767  "
      ]
     },
     "execution_count": 7,
     "metadata": {},
     "output_type": "execute_result"
    }
   ],
   "source": [
    "data[:5]"
   ]
  },
  {
   "cell_type": "markdown",
   "id": "d4d50b44",
   "metadata": {},
   "source": [
    "Ogni 3 minuti viene fornita un'istantanea dei jobs running o recenti.\n",
    "\n",
    "### Significati delle colonne\n",
    "- `jobid`\n",
    "- coda / `gruppo`\n",
    "- `tipo di job`: \n",
    "    - grid\n",
    "    - local\n",
    "- `hostname` dove gira il job\n",
    "- true se e' \"giovane\" (`iniziato da meno di 3 min`) false altrimenti\n",
    "- 0 se `finito da meno di 3 minuti`, 1 altrimenti\n",
    "- `jobstatus`: \n",
    "    - 1 = pending (in coda); \n",
    "    - 2 = running; \n",
    "    - 3 = rimosso; \n",
    "    - 4 = finito; \n",
    "    - 5 = \"sospeso\" (qui vale come rimosso)\n",
    "- `numero di core` usati dal job\n",
    "- `potenza` in HS06 di un `core` nella macchina dove gira il job\n",
    "- `potenza` totale in HS06 della `macchina` dove gira il job\n",
    "- `CPUtime in secondi` del job (user time + system time)\n",
    "- da `quanti secondi e' iniziato` il job\n",
    "- `owner` del job (utente unix che lo esegue)\n",
    "- `memoria RAM` in GB usata dal job\n",
    "- `memoria \"totale` usata dal job (ram + swap + \"pagine\")\n",
    "- tempo di inizio del job in \"epoch\" (`secondi trascorsi dalle ore 0 del 1/1/1970`), detto anche \"timestamp unix\"\n",
    "- da quale `macchina e' stato sottomesso il job`\n",
    "- `disco` in uso dal job, in GB"
   ]
  },
  {
   "cell_type": "code",
   "execution_count": 25,
   "id": "37132705",
   "metadata": {},
   "outputs": [
    {
     "name": "stdout",
     "output_type": "stream",
     "text": [
      "<class 'pandas.core.frame.DataFrame'>\n",
      "RangeIndex: 55197 entries, 0 to 55196\n",
      "Data columns (total 18 columns):\n",
      " #   Column             Non-Null Count  Dtype   \n",
      "---  ------             --------------  -----   \n",
      " 0   job_id             55197 non-null  category\n",
      " 1   group              55197 non-null  category\n",
      " 2   job_type           55197 non-null  category\n",
      " 3   host_name          55197 non-null  category\n",
      " 4   just_started       55197 non-null  category\n",
      " 5   just_finished      55197 non-null  category\n",
      " 6   job_status         55197 non-null  category\n",
      " 7   cores_used         55197 non-null  int64   \n",
      " 8   power_HS6_core     55197 non-null  float64 \n",
      " 9   power_HS6_machine  55197 non-null  float64 \n",
      " 10  cpu_time           55197 non-null  float64 \n",
      " 11  job_time           55197 non-null  int64   \n",
      " 12  owner              55197 non-null  category\n",
      " 13  ram_memory         55197 non-null  float64 \n",
      " 14  total_memory       55197 non-null  float64 \n",
      " 15  unix_time          55197 non-null  int64   \n",
      " 16  machine            55197 non-null  category\n",
      " 17  disk               55197 non-null  float64 \n",
      "dtypes: category(9), float64(6), int64(3)\n",
      "memory usage: 10.1 MB\n"
     ]
    }
   ],
   "source": [
    "data.info(memory_usage = \"deep\")"
   ]
  },
  {
   "cell_type": "code",
   "execution_count": null,
   "id": "588a90dc",
   "metadata": {},
   "outputs": [],
   "source": []
  },
  {
   "cell_type": "code",
   "execution_count": 30,
   "id": "8dc88ac7",
   "metadata": {},
   "outputs": [
    {
     "data": {
      "text/plain": [
       "1    51708\n",
       "8     3433\n",
       "2       23\n",
       "4       23\n",
       "3        5\n",
       "6        5\n",
       "Name: cores_used, dtype: int64"
      ]
     },
     "execution_count": 30,
     "metadata": {},
     "output_type": "execute_result"
    }
   ],
   "source": [
    "data[\"cores_used\"].value_counts()"
   ]
  },
  {
   "cell_type": "code",
   "execution_count": 31,
   "id": "02122041",
   "metadata": {},
   "outputs": [
    {
     "data": {
      "text/plain": [
       "<AxesSubplot: >"
      ]
     },
     "execution_count": 31,
     "metadata": {},
     "output_type": "execute_result"
    },
    {
     "data": {
      "image/png": "[encoded data removed]",
      "text/plain": [
       "<Figure size 640x480 with 1 Axes>"
      ]
     },
     "metadata": {},
     "output_type": "display_data"
    }
   ],
   "source": [
    "data.boxplot()"
   ]
  },
  {
   "cell_type": "code",
   "execution_count": 41,
   "id": "ae6ef3c4",
   "metadata": {},
   "outputs": [
    {
     "data": {
      "text/plain": [
       "<bound method Series.sort_values of group\n",
       "alice             955\n",
       "ams.analysis     2848\n",
       "ams.prod         4497\n",
       "atlas            5212\n",
       "auger            1499\n",
       "belle              39\n",
       "borexino           21\n",
       "clas12vo          431\n",
       "cms              1460\n",
       "cta               327\n",
       "cuore             694\n",
       "dampe            3962\n",
       "darkside         2442\n",
       "herd              299\n",
       "icarus           5319\n",
       "juno             1308\n",
       "lhcb            14862\n",
       "lhcf                7\n",
       "limadou            89\n",
       "na62                1\n",
       "neutrino         8479\n",
       "nucleus            60\n",
       "tristan            48\n",
       "undefined           1\n",
       "virgo.vligo       323\n",
       "xenon              14\n",
       "Name: job_id, dtype: int64>"
      ]
     },
     "execution_count": 41,
     "metadata": {},
     "output_type": "execute_result"
    }
   ],
   "source": [
    "jobs_per_group = data.groupby('group').job_id.count()\n",
    "jobs_per_group.sort_values\n",
    "\n",
    "# plt.figure(figsize=(7, 5))\n",
    "# plt.title('Distribuzione del numero di job tra i gruppi')\n",
    "# ax = sns.barplot(x = jobs_per_group, y = jobs_per_group.index)\n",
    "# sns.despine(left = True, bottom = False)\n",
    "# ax.set(xlabel='jobs')\n",
    "# plt.show()"
   ]
  },
  {
   "cell_type": "code",
   "execution_count": 42,
   "id": "c4a114d8",
   "metadata": {},
   "outputs": [
    {
     "data": {
      "text/plain": [
       "job_type\n",
       "grid     23321\n",
       "local    31876\n",
       "dtype: int64"
      ]
     },
     "execution_count": 42,
     "metadata": {},
     "output_type": "execute_result"
    }
   ],
   "source": [
    "data.groupby('job_type').size()"
   ]
  },
  {
   "cell_type": "code",
   "execution_count": null,
   "id": "21e7f869",
   "metadata": {},
   "outputs": [],
   "source": []
  }
 ],
 "metadata": {
  "kernelspec": {
   "display_name": "Python 3 (ipykernel)",
   "language": "python",
   "name": "python3"
  },
  "language_info": {
   "codemirror_mode": {
    "name": "ipython",
    "version": 3
   },
   "file_extension": ".py",
   "mimetype": "text/x-python",
   "name": "python",
   "nbconvert_exporter": "python",
   "pygments_lexer": "ipython3",
   "version": "3.9.18"
  }
 },
 "nbformat": 4,
 "nbformat_minor": 5
}
